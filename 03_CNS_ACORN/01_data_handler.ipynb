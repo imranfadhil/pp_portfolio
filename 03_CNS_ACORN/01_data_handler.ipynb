{
 "cells": [
  {
   "cell_type": "code",
   "execution_count": null,
   "metadata": {},
   "outputs": [],
   "source": [
    "import os\n",
    "import pandas as pd\n",
    "import numpy as np\n",
    "\n",
    "from quick_pp.objects import Project"
   ]
  },
  {
   "cell_type": "markdown",
   "metadata": {},
   "source": [
    "####  Steps to create \"MOCK\" project\n",
    "1. Run the next cell.\n",
    "2. Specify the example either clastic or carbonate.\n",
    "3. MOCK.qppp project will be saved in notebooks\\data\\04_project folder.\n",
    "\n",
    "* Note that the required curves in the LAS files are 'GR', 'RT', 'NPHI', 'RHOB'"
   ]
  },
  {
   "cell_type": "code",
   "execution_count": null,
   "metadata": {},
   "outputs": [],
   "source": [
    "data_path = 'data/'\n",
    "filenames = []\n",
    "for root, dirs, files in os.walk(data_path):\n",
    "    for file in files:\n",
    "        filenames.append(os.path.join(root, file)) if file.endswith('.las') and not 'seismic' in root  else None\n",
    "print(filenames)\n",
    "\n",
    "project_name = \"CNS_ACORN\"\n",
    "project = Project(name=project_name)\n",
    "project.read_las(filenames)\n",
    "# clear_output()               "
   ]
  },
  {
   "cell_type": "code",
   "execution_count": null,
   "metadata": {},
   "outputs": [],
   "source": [
    "\n",
    "tops_df = pd.read_excel(rf\"data\\OGA_UK_WellTopsDatabase.xlsx\")"
   ]
  },
  {
   "cell_type": "code",
   "execution_count": null,
   "metadata": {},
   "outputs": [],
   "source": [
    "\n",
    "data = project.get_all_data()"
   ]
  },
  {
   "cell_type": "code",
   "execution_count": null,
   "metadata": {},
   "outputs": [],
   "source": [
    "data.WELL_NAME.unique()"
   ]
  },
  {
   "cell_type": "code",
   "execution_count": null,
   "metadata": {},
   "outputs": [],
   "source": [
    "tops_df.head()"
   ]
  },
  {
   "cell_type": "code",
   "execution_count": null,
   "metadata": {},
   "outputs": [],
   "source": [
    "# Process well tops data\n",
    "data = project.get_all_data()\n",
    "merged_df = data.copy()\n",
    "\n",
    "tops_df = pd.read_excel(rf\"data\\OGA_UK_WellTopsDatabase.xlsx\")\n",
    "tops_df['WELL_NAME'] = tops_df['WELLREGNO'].str.replace('/', '-').str.replace(' ', '')\n",
    "for well_name, well_data in data.groupby('WELL_NAME'):\n",
    "    marker_df = tops_df[tops_df.WELL_NAME == well_name].copy()\n",
    "    marker_df['DEPTH'] = marker_df['Depth_MD'].astype('float')\n",
    "    marker_df['ZONES'] = marker_df['Top_Pick_Name']\n",
    "\n",
    "    # Merge with well logs\n",
    "    temp_df = pd.merge_asof(well_data, marker_df[['DEPTH', 'ZONES']],\n",
    "                            direction='nearest', on='DEPTH', tolerance=0.1524 / 2)\n",
    "    merged_df.loc[merged_df.WELL_NAME == well_name, ['ZONES']] = temp_df[['ZONES']]"
   ]
  },
  {
   "cell_type": "code",
   "execution_count": null,
   "metadata": {},
   "outputs": [],
   "source": [
    "merged_df.ZONES.unique()"
   ]
  },
  {
   "cell_type": "code",
   "execution_count": null,
   "metadata": {},
   "outputs": [],
   "source": [
    "marker_df.ZONES.unique()"
   ]
  },
  {
   "cell_type": "code",
   "execution_count": null,
   "metadata": {},
   "outputs": [],
   "source": [
    "# Save the update data to the project\n",
    "project.update_data(merged_df)\n",
    "project.save()"
   ]
  }
 ],
 "metadata": {
  "kernelspec": {
   "display_name": "pp_portfolio",
   "language": "python",
   "name": "python3"
  },
  "language_info": {
   "codemirror_mode": {
    "name": "ipython",
    "version": 3
   },
   "file_extension": ".py",
   "mimetype": "text/x-python",
   "name": "python",
   "nbconvert_exporter": "python",
   "pygments_lexer": "ipython3",
   "version": "3.11.4"
  }
 },
 "nbformat": 4,
 "nbformat_minor": 2
}
