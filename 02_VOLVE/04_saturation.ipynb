{
 "cells": [
  {
   "cell_type": "code",
   "execution_count": null,
   "metadata": {},
   "outputs": [],
   "source": [
    "%matplotlib inline\n",
    "\n",
    "import pandas as pd\n",
    "import matplotlib.pyplot as plt\n",
    "\n",
    "from quick_pp.objects import Project\n",
    "\n",
    "# Load well from saved file\n",
    "project_name = \"VOLVE\"\n",
    "project_path = rf\"data\\04_project\\{project_name}.qppp\"\n",
    "project = Project().load(project_path)\n",
    "project.get_well_names()"
   ]
  },
  {
   "cell_type": "code",
   "execution_count": null,
   "metadata": {},
   "outputs": [],
   "source": [
    "# Load data\n",
    "well_name = '15-9-19-BT2'\n",
    "well = project.get_well(well_name)\n",
    "well_data = well.data.copy()"
   ]
  },
  {
   "cell_type": "markdown",
   "metadata": {},
   "source": [
    "# Water Saturation Estimation"
   ]
  },
  {
   "cell_type": "markdown",
   "metadata": {},
   "source": [
    "Water saturation estimation is crucial in petrophysics for several reasons:\n",
    "\n",
    "1. **Hydrocarbon Volume Calculation**: It helps determine the volume of hydrocarbons in place. Accurate water saturation (Sw) values are essential for calculating the original oil in place (OOIP) and original gas in place (OGIP) volumes¹(https://petroshine.com/fluid-saturation/).\n",
    "2. **Reservoir Characterization**: Understanding the distribution of water saturation helps in characterizing the reservoir, which is vital for planning production strategies and enhancing recovery¹(https://petroshine.com/fluid-saturation/).\n",
    "3. **Production Forecasting**: Sw values are used in reservoir models to predict future production and to evaluate the economic viability of the reservoir²(https://www.mdpi.com/2077-1312/9/6/666).\n",
    "\n",
    "### Methods to Estimate Water Saturation\n",
    "\n",
    "1. **Resistivity Logs**: This is the most common method, where water saturation is estimated using resistivity measurements from well logs. The Archie equation is often used for clean sands, while modified versions like the Waxman-Smits model are used for shaly sands³(https://petrowiki.spe.org/Water_saturation_determination).\n",
    "2. **Capillary Pressure Measurements**: Laboratory measurements of capillary pressure and corresponding water saturation provide detailed information about the pore structure and fluid distribution³(https://petrowiki.spe.org/Water_saturation_determination).\n",
    "3. **Core Analysis**: Direct measurement of water saturation from core samples using techniques like the Dean-Stark method³(https://petrowiki.spe.org/Water_saturation_determination).\n",
    "4. **Nuclear Magnetic Resonance (NMR)**: NMR logging tools can provide estimates of water saturation by measuring the response of hydrogen nuclei in the formation fluids³(https://petrowiki.spe.org/Water_saturation_determination).\n",
    "\n",
    "This notebook estimates the water saturation using Archie equation and saturation height function based on the capillary pressure measurement.\n"
   ]
  },
  {
   "cell_type": "markdown",
   "metadata": {},
   "source": [
    "***\n",
    "# Log Derived Water Saturation"
   ]
  },
  {
   "cell_type": "markdown",
   "metadata": {},
   "source": [
    "Estimation of Rw based on formation water salinity, assuming the depths are already in True Vertical Depth Sub Sea (TVDSS).\n",
    "The range of Rw used in the original paper is 0.015 to 0.03 ohm.m\n",
    "\n",
    "Estimation of cementation factor (m) based on pickett plot."
   ]
  },
  {
   "cell_type": "code",
   "execution_count": null,
   "metadata": {},
   "outputs": [],
   "source": [
    "from ipywidgets import widgets, interact\n",
    "\n",
    "from quick_pp.saturation import pickett_plot\n",
    "\n",
    "# water_wells = ['HW-5', 'HW-7', 'HW-8', 'HW-9', 'HW-28', 'HW-31']\n",
    "# focused_data = all_data[all_data.WELL_NAME.isin(water_wells)].copy()\n",
    "focused_data = well_data.copy()\n",
    "\n",
    "wells = widgets.SelectMultiple(\n",
    "    options=['All'] + list(focused_data['WELL_NAME'].unique()),\n",
    "    value=['All'],\n",
    "    description='Wells:'\n",
    ")\n",
    "m = widgets.FloatSlider(\n",
    "    value=2,\n",
    "    min=1,\n",
    "    max=3,\n",
    "    step=.1,\n",
    "    readout_format='.1f'\n",
    ")\n",
    "min_rw = widgets.FloatSlider(\n",
    "    value=.01,\n",
    "    min=.001,\n",
    "    max=.1,\n",
    "    step=.001,\n",
    "    readout_format='.3f'\n",
    ")\n",
    "min_depth = widgets.FloatSlider(\n",
    "    value=focused_data.DEPTH.min(),\n",
    "    min=focused_data.DEPTH.min(),\n",
    "    max=focused_data.DEPTH.max() - 10,\n",
    "    step=.1,\n",
    "    readout_format='.1f'\n",
    ")\n",
    "max_depth = widgets.FloatSlider(\n",
    "    value=focused_data.DEPTH.max(),\n",
    "    min=focused_data.DEPTH.min() + 10,\n",
    "    max=focused_data.DEPTH.max(),\n",
    "    step=.1,\n",
    "    readout_format='.1f'\n",
    ")\n",
    "\n",
    "@interact(wells=wells, m=m, min_rw=min_rw, min_depth=min_depth, max_depth=max_depth)\n",
    "def param(wells, m, min_rw, min_depth, max_depth):\n",
    "    if 'All' in wells:\n",
    "        data = focused_data[(focused_data.DEPTH >= min_depth) & (focused_data.DEPTH <= max_depth)]\n",
    "    else:\n",
    "        data = focused_data[(focused_data.WELL_NAME.isin(wells)) & (focused_data.DEPTH >= min_depth) & (focused_data.DEPTH <= max_depth)]\n",
    "    pickett_plot(data['RT'], data['PHIT'], m=m, min_rw=min_rw, title=f'Pickett Plot for {wells[0]}')"
   ]
  },
  {
   "cell_type": "code",
   "execution_count": null,
   "metadata": {},
   "outputs": [],
   "source": [
    "import numpy as np\n",
    "from quick_pp.saturation import *\n",
    "\n",
    "water_salinity = 1e4\n",
    "m = 1.9\n",
    "\n",
    "temp_grad = estimate_temperature_gradient(well_data['TVD'], 'metric')\n",
    "rw = estimate_rw_temperature_salinity(temp_grad, water_salinity)\n",
    "\n",
    "swt = archie_saturation(well_data['RT'], rw, well_data['PHIT'], m=m, n=2)\n",
    "# swt = swt.clip(0, 1.1)\n",
    "\n",
    "fig, axes = plt.subplots(2, 1, figsize=(15, 3), sharex=True)\n",
    "axes[0].plot(well_data['DEPTH'], swt, label='SWT')\n",
    "axes[0].plot(well_data['DEPTH'], well_data['SW'], label='SW')\n",
    "axes[0].plot(well_data['DEPTH'], np.ones(len(well_data)), color='black', linestyle='--')\n",
    "axes[0].set_ylim(0, 2)\n",
    "axes[0].legend()\n",
    "\n",
    "axes[1].plot(well_data['DEPTH'], rw, label='RW')\n",
    "axes[1].set_yscale('log')\n",
    "axes[1].legend()\n",
    "fig.tight_layout()"
   ]
  },
  {
   "cell_type": "markdown",
   "metadata": {},
   "source": [
    "***\n",
    "# Plot the results"
   ]
  },
  {
   "cell_type": "code",
   "execution_count": null,
   "metadata": {},
   "outputs": [],
   "source": [
    "from quick_pp.plotter.plotter import plotly_log\n",
    "\n",
    "# Plot individual results\n",
    "well_data['SWT'] = swt\n",
    "fig = plotly_log(well_data, well_name=well_name, depth_uom='m')\n",
    "fig.show(config=dict(scrollZoom=True))"
   ]
  },
  {
   "cell_type": "markdown",
   "metadata": {},
   "source": [
    "# Apply to all"
   ]
  },
  {
   "cell_type": "code",
   "execution_count": null,
   "metadata": {},
   "outputs": [],
   "source": [
    "water_salinity = 1e4\n",
    "m = 2\n",
    "\n",
    "df = project.get_all_data()\n",
    "for well_name, plot_data in df.groupby('WELL_NAME'):\n",
    "\n",
    "    temp_grad = estimate_temperature_gradient(plot_data['TVD'], 'metric')\n",
    "    rw = estimate_rw_temperature_salinity(temp_grad, water_salinity)\n",
    "    swt = archie_saturation(plot_data['RT'], rw, plot_data['PHIT'], m=m, n=2)\n",
    "\n",
    "    plot_data['SWT'] = swt.clip(0, 1)\n",
    "    \n",
    "    # Save the well data\n",
    "    project.update_data(plot_data)\n",
    "    project.save()"
   ]
  }
 ],
 "metadata": {
  "kernelspec": {
   "display_name": "pp_portfolio",
   "language": "python",
   "name": "python3"
  },
  "language_info": {
   "codemirror_mode": {
    "name": "ipython",
    "version": 3
   },
   "file_extension": ".py",
   "mimetype": "text/x-python",
   "name": "python",
   "nbconvert_exporter": "python",
   "pygments_lexer": "ipython3",
   "version": "3.11.0"
  }
 },
 "nbformat": 4,
 "nbformat_minor": 2
}
