{
 "cells": [
  {
   "cell_type": "code",
   "execution_count": null,
   "metadata": {},
   "outputs": [],
   "source": [
    "import os\n",
    "from quick_pp.objects import Project"
   ]
  },
  {
   "cell_type": "markdown",
   "metadata": {},
   "source": [
    "####  Steps to create \"MOCK\" project\n",
    "1. Run the next cell.\n",
    "2. Specify the example either clastic or carbonate.\n",
    "3. MOCK.qppp project will be saved in notebooks\\data\\04_project folder.\n",
    "\n",
    "* Note that the required curves in the LAS files are 'GR', 'RT', 'NPHI', 'RHOB'"
   ]
  },
  {
   "cell_type": "code",
   "execution_count": null,
   "metadata": {},
   "outputs": [],
   "source": [
    "data_path = 'data/'\n",
    "filenames = []\n",
    "for root, dirs, files in os.walk(data_path):\n",
    "    for file in files:\n",
    "        filenames.append(os.path.join(root, file)) if file.endswith('.las') and not 'seismic' in root  else None\n",
    "print(filenames)\n",
    "\n",
    "project_name = \"VOLVE\"\n",
    "project = Project(name=project_name)\n",
    "project.read_las(filenames)\n",
    "project.save()\n",
    "\n",
    "# clear_output()               "
   ]
  }
 ],
 "metadata": {
  "kernelspec": {
   "display_name": "pp_portfolio",
   "language": "python",
   "name": "python3"
  },
  "language_info": {
   "codemirror_mode": {
    "name": "ipython",
    "version": 3
   },
   "file_extension": ".py",
   "mimetype": "text/x-python",
   "name": "python",
   "nbconvert_exporter": "python",
   "pygments_lexer": "ipython3",
   "version": "3.11.0"
  }
 },
 "nbformat": 4,
 "nbformat_minor": 2
}
