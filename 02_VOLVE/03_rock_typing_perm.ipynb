{
 "cells": [
  {
   "cell_type": "code",
   "execution_count": null,
   "metadata": {},
   "outputs": [],
   "source": [
    "%matplotlib inline\n",
    "\n",
    "import numpy as np\n",
    "import pandas as pd\n",
    "import pickle\n",
    "import matplotlib.pyplot as plt\n",
    "\n",
    "from quick_pp.objects import Project\n",
    "\n",
    "# Load well from saved file\n",
    "project_name = \"VOLVE\"\n",
    "project_path = rf\"data\\04_project\\{project_name}.qppp\"\n",
    "project = Project().load(project_path)\n",
    "project.get_well_names()\n",
    "all_data = project.get_all_data()\n",
    "\n",
    "# Temporary\n",
    "all_data['DTC'] = all_data.DT\n",
    "all_data['PHIT'] = all_data.PHIF\n",
    "\n",
    "merged_core_df = pd.read_csv(r'data\\merged_core_data.csv')"
   ]
  },
  {
   "cell_type": "markdown",
   "metadata": {},
   "source": [
    "***\n",
    "# Rock Typing"
   ]
  },
  {
   "cell_type": "markdown",
   "metadata": {},
   "source": [
    "The process of rock typing is a multidisciplinary effort that involves close collaboration between geologists, petrophysicists, and reservoir engineers. Each discipline plays a specific role, and the rock typing workflow involves a seamless transition of data, models, and insights across these domains to build a robust understanding of the reservoir. Below is the high-level workflow detailing the steps, key tasks, and handoffs between these professionals\n",
    "\n",
    "Petrophysicists take geological inputs and combine them with well log data and core analysis to define rock types based on petrophysical properties such as porosity, permeability, fluid saturation, and pore geometry.\n",
    "\n",
    "Tasks:\n",
    "- Core Data Integration:\n",
    "    - Perform routine and special core analyses (RCAL, SCAL) to measure porosity, permeability, capillary pressure, and wettability.\n",
    "\n",
    "- Log Interpretation:\n",
    "    - Interpret wireline logs (e.g., density, neutron, resistivity, NMR) to generate continuous petrophysical properties along the wellbore.\n",
    "\n",
    "- Rock Typing Methods:\n",
    "    - Use statistical tools like Flow Zone Indicator (FZI), Pickett plots, and cluster analysis to group rocks with similar flow behavior into petrophysical rock types.\n",
    "\n",
    "- Electrofacies Analysis:\n",
    "    - Identify electrofacies by clustering log responses, especially where core data is limited.\n",
    "\n",
    "The rock typing workflow is a collaborative process where geologists, petrophysicists, and reservoir engineers work together to ensure the reservoir is accurately characterized and modeled. This interdisciplinary approach ensures that both geological and petrophysical complexities are accounted for, resulting in more efficient production strategies and better field development plans"
   ]
  },
  {
   "cell_type": "markdown",
   "metadata": {},
   "source": [
    "## Some of the different methods in Rock Typing"
   ]
  },
  {
   "cell_type": "markdown",
   "metadata": {},
   "source": [
    "As a comparison, the core porosity and permeability are plotted and Winland R35 methods.\n",
    "\n",
    "- The plot demonstrates Winland R35 resulted in a less drastic permeability estimation with respect to porosity.\n",
    "- Lower porosity - high permeability datapoints:\n",
    "    - These points might be the result of fractured cores.\n",
    "    - Both Winland R35 and Lucia RFN does not model the datapoints.\n",
    "    - FZI is able to model but indicates too high of a value."
   ]
  },
  {
   "cell_type": "code",
   "execution_count": null,
   "metadata": {},
   "outputs": [],
   "source": [
    "from sklearn.cluster import KMeans\n",
    "from sklearn.impute import KNNImputer\n",
    "from sklearn.preprocessing import StandardScaler\n",
    "\n",
    "num_facies = 13\n",
    "df_with_dummies = pd.get_dummies(all_data, columns=['LITHOFACIES'], prefix='FACIES')\n",
    "\n",
    "# Define the features to be used for clustering\n",
    "litho_cols = [c for c in df_with_dummies.columns if 'FACIES' in c]\n",
    "cluster_features = ['GR', 'NPHI', 'RHOB']  + litho_cols\n",
    "\n",
    "for well, data in df_with_dummies.groupby('WELL_NAME'):\n",
    "    X_cluster = data[cluster_features]\n",
    "\n",
    "    scaler = StandardScaler()\n",
    "    X_scaled = scaler.fit_transform(X_cluster)\n",
    "\n",
    "    imputer = KNNImputer(n_neighbors=9)\n",
    "    X_imputed = imputer.fit_transform(X_scaled)\n",
    "\n",
    "    # Initialize KMeans with x clusters\n",
    "    kmeans = KMeans(n_clusters=num_facies, random_state=42, n_init='auto')\n",
    "    all_data.loc[all_data.WELL_NAME == well, 'CLUSTER'] = kmeans.fit_predict(X_imputed)\n",
    "\n",
    "all_data['CLUSTER'].value_counts()"
   ]
  },
  {
   "cell_type": "code",
   "execution_count": null,
   "metadata": {},
   "outputs": [],
   "source": [
    "from quick_pp.rock_type import plot_fzi, plot_winland\n",
    "\n",
    "plot_fzi(all_data['CPORE'], all_data['CPERM'], rock_type=all_data['CLUSTER'])\n",
    "plot_winland(all_data['CPORE'], all_data['CPERM'], rock_type=all_data['CLUSTER'])"
   ]
  },
  {
   "cell_type": "markdown",
   "metadata": {},
   "source": [
    "## FZI Rock Typing"
   ]
  },
  {
   "cell_type": "markdown",
   "metadata": {},
   "source": [
    "### Identifying the number of rock types\n",
    "\n",
    "Different methods have been discussed by previous works on determining of the number of rock types for a given core data. Among others are Wards Plot, Modified Lorenz Plot and its extensions.\n",
    "\n",
    "1. Flow Zone Index (FZI) Method\n",
    "    - The FZI method classifies rock types based on their flow characteristics. It involves calculating the Flow Zone Index from core data and using it to group similar rock types. This method is particularly effective in heterogeneous reservoirs3.\n",
    "\n",
    "1. Ward’s Method\n",
    "    - Ward’s method is a hierarchical clustering technique that minimizes the total within-cluster variance. It starts with each observation in its own cluster and merges clusters iteratively to minimize the increase in total within-cluster variance1. This method is particularly useful for quantitative variables and can be visualized using a dendrogram, which helps in identifying the optimal number of clusters (rock types).\n",
    "\n",
    "2. Lorenz Method\n",
    "    - The Lorenz method, often used in petrophysical analysis, involves plotting cumulative storage capacity against cumulative flow capacity. This method helps in identifying distinct rock types based on their flow properties. By analyzing the Lorenz plot, you can determine the number of rock types and their respective contributions to storage and flow capacities2.\n",
    "\n",
    "\n",
    "As an example based on the Ward's plot below, the data can be grouped into 4 rock types where the limits of log(FZI) values are -0.679, -0.179, 1.71, 0.571 and 0.871.\n",
    "This translates into FZI values of 0.209, 0.662, 1.483, 3.724, 7.43. Consequently, the rock types can be categorized as follows;\n",
    "- Rock Type 1: FZI >= 3.724\n",
    "- Rock Type 2: 1.483 <= FZI < 3.724\n",
    "- Rock Type 3: 0.662 <= FZI < 1.483\n",
    "- Rock Type 4: FZI < 0.662"
   ]
  },
  {
   "cell_type": "code",
   "execution_count": null,
   "metadata": {},
   "outputs": [],
   "source": [
    "from quick_pp.rock_type import plot_cumulative_probability, plot_modified_lorenz\n",
    "import json\n",
    "\n",
    "clean_core_data = merged_core_df.dropna(subset=['CPORE', 'CPERM'])\n",
    "\n",
    "log_fzi_cutoffs = [-0.084, .121, .316, .516, .615, .766, .961, 1.016, 1.100, 1.216, 1.32]\n",
    "plot_cumulative_probability(clean_core_data['CPORE'], clean_core_data['CPERM'], cutoffs=log_fzi_cutoffs)\n",
    "plot_modified_lorenz(clean_core_data['CPORE'], clean_core_data['CPERM'])\n",
    "\n",
    "fzi_cutoffs = [round(10**(i), 3) for i in log_fzi_cutoffs]\n",
    "print(fzi_cutoffs)\n",
    "with open(rf'data\\04_project\\{project_name}\\outputs\\fzi_cutoffs.json', 'w') as file:\n",
    "    json.dump(fzi_cutoffs, file)"
   ]
  },
  {
   "cell_type": "code",
   "execution_count": null,
   "metadata": {},
   "outputs": [],
   "source": [
    "from quick_pp.rock_type import plot_fzi, calc_fzi, rock_typing, plot_ward_dendogram\n",
    "from quick_pp.machine_learning.feature_engineering import gas_xover\n",
    "\n",
    "all_data['GAS_XOVER'] = gas_xover(all_data.RHOB, all_data.NPHI)\n",
    "all_data['LOG_RT'] = np.log10(all_data['RT'])\n",
    "\n",
    "# Estimate rock types\n",
    "fzi = calc_fzi(all_data['CPORE'], all_data['CPERM'])\n",
    "all_data['FZI'] = fzi\n",
    "fzi_rock_flag = rock_typing(fzi, fzi_cutoffs, higher_is_better=True)\n",
    "all_data['ROCK_FLAG'] = fzi_rock_flag\n",
    "\n",
    "plot_fzi(all_data['CPORE'], all_data['CPERM'], rock_type=fzi_rock_flag, cut_offs=fzi_cutoffs)\n",
    "plot_ward_dendogram(all_data['FZI'], p=30)\n",
    "print(pd.Series(fzi_rock_flag).value_counts().sort_index())"
   ]
  },
  {
   "cell_type": "markdown",
   "metadata": {},
   "source": [
    "### Develop Machine Learning models to predict ROCK_FLAG and FZI\n",
    "\n",
    "The models will then be used to predict the Rock Type and FZI at non-cored intervals"
   ]
  },
  {
   "cell_type": "code",
   "execution_count": null,
   "metadata": {},
   "outputs": [],
   "source": [
    "from quick_pp.rock_type import train_classification_model, train_regression_model\n",
    "\n",
    "train_data = all_data.copy()\n",
    "input_features = ['VCLAY', 'PHIT', 'LOG_RT', 'GAS_XOVER']\n",
    "train_data = train_data.dropna(subset=input_features + ['ROCK_FLAG', 'FZI'])\n",
    "\n",
    "fzi_rt_model = train_classification_model(\n",
    "    train_data, input_features=input_features, target_feature='ROCK_FLAG', stratifier=train_data['ROCK_FLAG'])\n",
    "with open(rf'data\\04_project\\{project_name}\\outputs\\fzi_rt_model.qppm', 'wb') as file:\n",
    "    pickle.dump(fzi_rt_model, file)"
   ]
  },
  {
   "cell_type": "code",
   "execution_count": null,
   "metadata": {},
   "outputs": [],
   "source": [
    "train_data['ROCK_PRED'] = fzi_rt_model.predict(train_data[input_features])\n",
    "input_features_fzi = input_features + ['ROCK_PRED']\n",
    "train_data['LOG_FZI'] = np.log10(train_data['FZI'])\n",
    "fzi_model = train_regression_model(\n",
    "    train_data, input_features=input_features_fzi, target_feature='LOG_FZI', stratifier=train_data['ROCK_PRED'])\n",
    "with open(rf'data\\04_project\\{project_name}\\outputs\\fzi_model.qppm', 'wb') as file:\n",
    "    pickle.dump(fzi_model, file)"
   ]
  },
  {
   "cell_type": "code",
   "execution_count": null,
   "metadata": {},
   "outputs": [],
   "source": [
    "predicted_fzi_rt = fzi_rt_model.predict(all_data[input_features])\n",
    "plot_fzi(all_data['CPORE'], all_data['CPERM'], rock_type=predicted_fzi_rt, cut_offs=fzi_cutoffs)"
   ]
  },
  {
   "cell_type": "code",
   "execution_count": null,
   "metadata": {},
   "outputs": [],
   "source": [
    "all_data['ROCK_PRED'] = fzi_rt_model.predict(all_data[input_features])\n",
    "\n",
    "pred_data = all_data.dropna(subset=input_features_fzi)\n",
    "predicted_fzi = 10**(fzi_model.predict(pred_data[input_features_fzi]))\n",
    "predicted_fzi_rt = rock_typing(predicted_fzi, fzi_cutoffs, higher_is_better=True)\n",
    "plot_fzi(pred_data['CPORE'], pred_data['CPERM'], rock_type=predicted_fzi_rt, cut_offs=fzi_cutoffs)"
   ]
  },
  {
   "cell_type": "markdown",
   "metadata": {},
   "source": [
    "Comparing the predicted electrofacies with the clustered from lithofacies. The numbering of the clustered lithofacies is not following a particular order, thus it's mainly for comparing the cluster against the predicted values."
   ]
  },
  {
   "cell_type": "code",
   "execution_count": null,
   "metadata": {},
   "outputs": [],
   "source": [
    "plt.figure(figsize=(20, 3))\n",
    "plt.scatter(all_data.DEPTH, all_data['ROCK_PRED'], label='pred rock')\n",
    "plt.scatter(all_data.DEPTH, all_data['CLUSTER'], label='clustered')\n",
    "plt.legend()"
   ]
  },
  {
   "cell_type": "markdown",
   "metadata": {},
   "source": [
    "***\n",
    "# Permeability Transform"
   ]
  },
  {
   "cell_type": "markdown",
   "metadata": {},
   "source": [
    "### Determining the perm transform parameter for each rock type."
   ]
  },
  {
   "cell_type": "code",
   "execution_count": null,
   "metadata": {},
   "outputs": [],
   "source": [
    "import pprint\n",
    "\n",
    "from quick_pp.core_calibration import poroperm_xplot, fit_poroperm_curve\n",
    "\n",
    "poroperm_params = {}\n",
    "\n",
    "for rt, data in all_data.groupby('ROCK_FLAG'):\n",
    "    a, b = fit_poroperm_curve(data['CPORE'], data['CPERM'])\n",
    "    poroperm_params[rt] = (a, b)\n",
    "\n",
    "pp = pprint.PrettyPrinter(indent=4)\n",
    "pp.pprint(poroperm_params)"
   ]
  },
  {
   "cell_type": "code",
   "execution_count": null,
   "metadata": {},
   "outputs": [],
   "source": [
    "from ipywidgets import interact, widgets\n",
    "\n",
    "rt = widgets.Dropdown(\n",
    "    options=sorted(all_data['ROCK_FLAG'].dropna().unique()),\n",
    "    value=1,\n",
    "    description='Rock Type:'\n",
    ")\n",
    "a = widgets.IntText(value=0, step=5000, description='a:')\n",
    "b = widgets.FloatText(value=0, step=.1, description='b:')\n",
    "\n",
    "@interact(rt=rt, a=a, b=b)\n",
    "def param(rt, a, b):\n",
    "    data = all_data[all_data['ROCK_FLAG'] == rt]\n",
    "    poroperm_xplot(data['CPORE'], data['CPERM'], a=a, b=b, label=f'RT{rt}:\\n a={a:d},\\n b={b:.2f}')"
   ]
  },
  {
   "cell_type": "code",
   "execution_count": null,
   "metadata": {},
   "outputs": [],
   "source": [
    "# Update poroperm_params with user input if needed\n",
    "# poroperm_params[rt.value] = (a.value, b.value)\n",
    "\n",
    "plt.figure(figsize=(12, 8))\n",
    "for rt, data in all_data.groupby('ROCK_FLAG'):\n",
    "    a, b = poroperm_params[rt]\n",
    "    poroperm_xplot(data['CPORE'], data['CPERM'], a=a, b=b, label=f'RT{rt}: a={a:1d}, b={b:.2f}')"
   ]
  },
  {
   "cell_type": "markdown",
   "metadata": {},
   "source": [
    "### Compare different PERM estimations at well level"
   ]
  },
  {
   "cell_type": "code",
   "execution_count": null,
   "metadata": {},
   "outputs": [],
   "source": [
    "from sklearn.metrics import mean_absolute_percentage_error, r2_score\n",
    "\n",
    "from quick_pp.core_calibration import perm_transform\n",
    "from quick_pp.rock_type import calc_fzi_perm\n",
    "\n",
    "focus_well = '15-9-19-A'\n",
    "well_data = all_data[all_data.WELL_NAME == focus_well].copy()\n",
    "\n",
    "# Permeability estimation based on core data perm transform\n",
    "a = well_data['ROCK_FLAG'].map(poroperm_params).apply(lambda x: x[0] if type(x) == tuple else np.nan)\n",
    "b = well_data['ROCK_FLAG'].map(poroperm_params).apply(lambda x: x[1] if type(x) == tuple else np.nan)\n",
    "perm_trans = perm_transform(well_data['PHIT'], a=a, b=b)\n",
    "\n",
    "# Permeability estimation based on FZI from core data\n",
    "fzi = calc_fzi(well_data['CPORE'], well_data['CPERM'])\n",
    "perm_fzi = calc_fzi_perm(fzi, well_data['PHIT'])\n",
    "\n",
    "# Permeability prediction based on ROCK_FLAG ML model followed by perm transform\n",
    "well_data['LOG_RT'] = np.log10(well_data['RT'])\n",
    "\n",
    "with open(rf'data\\04_project\\{project_name}\\outputs\\fzi_rt_model.qppm', 'rb') as file:\n",
    "    fzi_rt_model = pickle.load(file)\n",
    "rock_flag_ml = fzi_rt_model.predict(well_data[input_features])\n",
    "perm_a_ml = pd.Series(rock_flag_ml).map(poroperm_params).apply(lambda x: x[0] if type(x) == tuple else np.nan)\n",
    "perm_b_ml = pd.Series(rock_flag_ml).map(poroperm_params).apply(lambda x: x[1] if type(x) == tuple else np.nan)\n",
    "perm_ml = perm_transform(well_data['PHIT'], perm_a_ml, perm_b_ml)\n",
    "\n",
    "# Permeability prediction based on FZI ML model followed by back calculate from FZI\n",
    "well_data['ROCK_PRED'] = fzi_rt_model.predict(well_data[input_features])\n",
    "with open(rf'data\\04_project\\{project_name}\\outputs\\fzi_model.qppm', 'rb') as file:\n",
    "    fzi_model = pickle.load(file)\n",
    "fzi_ml = 10**(fzi_model.predict(well_data[input_features_fzi].ffill().bfill()))\n",
    "perm_fzi_ml = calc_fzi_perm(fzi_ml, well_data['PHIT'])\n",
    "\n",
    "# Plot to compare\n",
    "plt.figure(figsize=(20, 2))\n",
    "plt.plot(well_data.DEPTH, perm_trans, label='Perm Transform')\n",
    "plt.plot(well_data.DEPTH, perm_fzi, label='Perm FZI')\n",
    "# plt.plot(well_data.DEPTH, perm_ml, label='Perm ML')\n",
    "plt.plot(well_data.DEPTH, perm_fzi_ml, label='Perm FZI ML')\n",
    "plt.scatter(well_data.DEPTH, well_data.CPERM, label='Core Perm', marker='.', c='black')\n",
    "plt.yscale('log')\n",
    "plt.legend()\n",
    "\n",
    "# Print scores\n",
    "score_df = well_data[['DEPTH', 'CPERM']].copy()\n",
    "score_df['PERM'] = perm_fzi_ml\n",
    "score_df.dropna(inplace=True)\n",
    "print(f\"\\n ### PERM MAPE: {mean_absolute_percentage_error(score_df.CPERM, score_df.PERM):.2f}\")\n",
    "print(f\" ### PERM R2: {r2_score(score_df.CPERM, score_df.PERM):.2f}\")"
   ]
  },
  {
   "cell_type": "markdown",
   "metadata": {},
   "source": [
    "### Compare different ROCK_FLAG at well level"
   ]
  },
  {
   "cell_type": "code",
   "execution_count": null,
   "metadata": {},
   "outputs": [],
   "source": [
    "# Compare rock types predicted from rt_model with applied cut-offs on predicted r35\n",
    "rock_flag_fzi_ml = rock_typing(fzi_ml, fzi_cutoffs, higher_is_better=True)\n",
    "\n",
    "plt.figure(figsize=(20, 2))\n",
    "plt.plot(well_data.DEPTH, well_data.ROCK_FLAG, label='Rock Flag Core')\n",
    "plt.plot(well_data.DEPTH, rock_flag_ml, label='Rock Flag ML')\n",
    "plt.plot(well_data.DEPTH, rock_flag_fzi_ml, label='Rock Flag FZI ML')\n",
    "plt.legend()"
   ]
  },
  {
   "cell_type": "markdown",
   "metadata": {},
   "source": [
    "***\n",
    "# Plotting the result"
   ]
  },
  {
   "cell_type": "code",
   "execution_count": null,
   "metadata": {},
   "outputs": [],
   "source": [
    "from quick_pp.plotter.plotter import plotly_log\n",
    "\n",
    "# Plot individual results\n",
    "well_data['PERM'] = perm_fzi_ml\n",
    "fig = plotly_log(well_data, 'ft')\n",
    "fig.show(config=dict(scrollZoom=True))"
   ]
  },
  {
   "cell_type": "markdown",
   "metadata": {},
   "source": [
    "# Apply to all"
   ]
  },
  {
   "cell_type": "code",
   "execution_count": null,
   "metadata": {},
   "outputs": [],
   "source": [
    "from sklearn.impute import SimpleImputer\n",
    "import json\n",
    "\n",
    "from quick_pp.machine_learning.feature_engineering import gas_xover\n",
    "from quick_pp.rock_type import *\n",
    "\n",
    "# Load FZI ROCK_FLAG\n",
    "with open(rf'data\\04_project\\{project_name}\\outputs\\fzi_rt_model.qppm', 'rb') as file:\n",
    "    fzi_rt_model = pickle.load(file)\n",
    "\n",
    "# Load FZI model\n",
    "with open(rf'data\\04_project\\{project_name}\\outputs\\fzi_model.qppm', 'rb') as file:\n",
    "    fzi_model = pickle.load(file)\n",
    "\n",
    "# Load FZI cutoffs\n",
    "with open(rf'data\\04_project\\{project_name}\\outputs\\fzi_cutoffs.json', 'rb') as file:\n",
    "    fzi_cutoffs = json.load(file)\n",
    "\n",
    "imp_mean = SimpleImputer(missing_values=np.nan, strategy='mean')\n",
    "\n",
    "input_features = ['VCLAY', 'PHIT', 'LOG_RT', 'GAS_XOVER']\n",
    "input_features_fzi = input_features + ['ROCK_PRED']\n",
    "\n",
    "df = project.get_all_data()\n",
    "df['GAS_XOVER'] = gas_xover(df.RHOB, df.NPHI)\n",
    "df['LOG_RT'] = np.log10(all_data['RT'])\n",
    "for well_name, well_data in df.groupby('WELL_NAME'):\n",
    "\n",
    "    rock_flag_ml = fzi_rt_model.predict(well_data[input_features])\n",
    "    \n",
    "    # Predict permeability\n",
    "    temp_df = well_data.copy()\n",
    "    temp_df['ROCK_PRED'] = rock_flag_ml\n",
    "    temp_df[input_features] = imp_mean.fit_transform(temp_df[input_features])\n",
    "    fzi_ml = 10**(fzi_model.predict(temp_df[input_features_fzi]))\n",
    "    perm_ml = calc_fzi_perm(fzi_ml, well_data['PHIT']).clip(lower=1e-3)\n",
    "\n",
    "    # Update rock type\n",
    "    rock_flag_ml = rock_typing(fzi_ml, cut_offs=fzi_cutoffs)\n",
    "\n",
    "    well_data['PERM'] = perm_ml\n",
    "    well_data['ROCK_FLAG'] = rock_flag_ml    \n",
    "\n",
    "    # Save the well data\n",
    "    project.update_data(well_data)\n",
    "    project.save()"
   ]
  }
 ],
 "metadata": {
  "kernelspec": {
   "display_name": "pp_portfolio",
   "language": "python",
   "name": "python3"
  },
  "language_info": {
   "codemirror_mode": {
    "name": "ipython",
    "version": 3
   },
   "file_extension": ".py",
   "mimetype": "text/x-python",
   "name": "python",
   "nbconvert_exporter": "python",
   "pygments_lexer": "ipython3",
   "version": "3.11.0"
  }
 },
 "nbformat": 4,
 "nbformat_minor": 4
}
