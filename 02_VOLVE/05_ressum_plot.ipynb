{
 "cells": [
  {
   "cell_type": "code",
   "execution_count": null,
   "metadata": {},
   "outputs": [],
   "source": [
    "%matplotlib inline\n",
    "\n",
    "from quick_pp.objects import Project\n",
    "\n",
    "# Load well from saved file\n",
    "project_name = \"VOLVE\"\n",
    "project_path = rf\"data\\04_project\\{project_name}.qppp\"\n",
    "project = Project().load(project_path)\n",
    "project.get_well_names()"
   ]
  },
  {
   "cell_type": "markdown",
   "metadata": {},
   "source": [
    "# Quick PP Interpretation"
   ]
  },
  {
   "cell_type": "code",
   "execution_count": null,
   "metadata": {},
   "outputs": [],
   "source": [
    "from quick_pp.plotter.plotter import plotly_log\n",
    "from quick_pp.machine_learning.feature_engineering import tight_streak_flagging, coal_flagging\n",
    "\n",
    "# Plot individual results\n",
    "final_df = project.get_all_data()\n",
    "final_df['DTC'] = final_df.DT\n",
    "final_df['BVW'] = final_df.SWT * final_df.PHIE\n",
    "final_df['VHC'] = (final_df.PHIT * (1 - final_df.SWT)).clip(0, 1)\n",
    "\n",
    "# Flag tight streaks and coal\n",
    "final_df['TIGHT_FLAG'] = tight_streak_flagging(final_df.RHOB)\n",
    "final_df['COAL_FLAG'] = coal_flagging(final_df.NPHI, final_df.RHOB)\n",
    "\n",
    "output_folder = r'data\\04_project\\outputs'\n",
    "for well, data in final_df.groupby('WELL_NAME'):\n",
    "    print(data.TIGHT_FLAG.value_counts())\n",
    "    fig = plotly_log(data, well_name=well, depth_uom='m', column_widths=[1, 1, 1, 1, 1, 1, .3, 1, 1])\n",
    "    # fig.show(config=dict(scrollZoom=True))\n",
    "    fig.write_html(rf\"{output_folder}\\{well}_log.html\", config=dict(scrollZoom=True))"
   ]
  },
  {
   "cell_type": "code",
   "execution_count": null,
   "metadata": {},
   "outputs": [],
   "source": [
    "from quick_pp.qaqc import quick_compare\n",
    "\n",
    "compare_df, fig = quick_compare(final_df, return_fig=True)"
   ]
  }
 ],
 "metadata": {
  "kernelspec": {
   "display_name": "pp_portfolio",
   "language": "python",
   "name": "python3"
  },
  "language_info": {
   "codemirror_mode": {
    "name": "ipython",
    "version": 3
   },
   "file_extension": ".py",
   "mimetype": "text/x-python",
   "name": "python",
   "nbconvert_exporter": "python",
   "pygments_lexer": "ipython3",
   "version": "3.11.0"
  }
 },
 "nbformat": 4,
 "nbformat_minor": 2
}
